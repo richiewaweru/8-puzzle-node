{
 "cells": [
  {
   "cell_type": "markdown",
   "metadata": {},
   "source": [
    "<h1>The 8-puzzle</h1>\n",
    "\n",
    "Before you turn in this assignment, make sure everything runs as expected. First, **restart the kernel** (in the menubar, select Kernel$\\rightarrow$Restart) and then run the test cells for each of the questions you have answered.  Note that a grade of 3 for the A* implementation requires all tests in the \"Basic Functionality\" section to be passed.  The test cells pass if they execute with no errors (i.e. all the assertions are passed).\n",
    "\n",
    "Make sure you fill in any place that says `YOUR CODE HERE`.  Be sure to remove the `raise NotImplementedError()` statements as you implement your code - these are simply there as a reminder if you forget to add code where it's needed."
   ]
  },
  {
   "cell_type": "markdown",
   "metadata": {},
   "source": [
    "---"
   ]
  },
  {
   "cell_type": "markdown",
   "metadata": {
    "deletable": false,
    "editable": false,
    "nbgrader": {
     "cell_type": "markdown",
     "checksum": "3582513581b2e5d1806ee2b1117ac019",
     "grade": false,
     "grade_id": "5bb4ce",
     "locked": true,
     "schema_version": 3,
     "solution": false
    }
   },
   "source": [
    "<h1>\n",
    "Question 1    \n",
    "</h1>\n",
    "Define your <code>PuzzleNode</code> class below.  Ensure that you include all attributes that you need to implement an A* search.  If you wish, you can even include member functions, such as a function to generate successor states.  Alternatively, you can code up this functionality later in the <code>solvePuzzle</code> function."
   ]
  },
  {
   "cell_type": "code",
   "execution_count": 1,
   "metadata": {
    "deletable": false,
    "nbgrader": {
     "cell_type": "code",
     "checksum": "4326143183f9b58edcedbc64aed31100",
     "grade": false,
     "grade_id": "b5da05",
     "locked": false,
     "schema_version": 3,
     "solution": true,
     "task": false
    }
   },
   "outputs": [],
   "source": [
    "# Import any packages you need here\n",
    "# Also define any variables as needed\n",
    "\n",
    "# YOUR CODE HERE (OPTIONAL)\n",
    "import copy\n",
    "#Now, define the class PuzzleNode:\n",
    "class PuzzleNode:\n",
    "    #Now, define the class PuzzleNode:\n",
    "    \n",
    "    \"\"\"\n",
    "    Class PuzzleNode: Provides a structure for performing A* search for the n^2-1 puzzle\n",
    "    \"\"\"\n",
    "    def __init__(self,state,gval,fval,parent):\n",
    "        \n",
    "        self.state=state\n",
    "        self.gval=gval\n",
    "        self.fval =fval\n",
    "        self.parent = parent\n",
    "        self.pruned=False\n",
    "        \n",
    "    # Comparison function based on f cost\n",
    "    def __lt__(self,other):\n",
    "        return self.fval < other.fval\n",
    "\n",
    "    '''# Convert self.state to strings\n",
    "    def __str__(self):\n",
    "        return str(self.state)'''\n",
    "    def __str__(self):\n",
    "        s =''\n",
    "        for i in self.state:\n",
    "            for j in i:      \n",
    "                s += str(j)\n",
    "                s += ' '\n",
    "            s+= '\\n'\n",
    "        return s\n",
    "    #generates child according to the number of possible moves\n",
    "    #code adapted from https://github.com/murtaza98/8-puzzle-problem\n",
    "    def create_child(self,move):\n",
    "        i = 0\n",
    "        j = 0\n",
    "        found = False\n",
    "        #copys the current state to create child states according to the moves available.\n",
    "        next_state = copy.deepcopy(self.state)\n",
    "        #self.gval=self.gval+1\n",
    "        for i in range(0, len(self.state)):\n",
    "            for j in range(0, len(self.state)):\n",
    "                if next_state[i][j] == 0:\n",
    "                    found = True\n",
    "                    break\n",
    "            if found:\n",
    "                break\n",
    "        if move == \"left\":\n",
    "            if j == 0:\n",
    "                return -1\n",
    "            else:\n",
    "                next_state[i][j] = next_state[i][j - 1]\n",
    "                next_state[i][j - 1] = 0\n",
    "                return next_state\n",
    "        if move == \"right\":\n",
    "            if j == len(self.state)-1:\n",
    "                return -1\n",
    "            else:\n",
    "                next_state[i][j] = next_state[i][j + 1]\n",
    "                next_state[i][j + 1] = 0\n",
    "                return next_state\n",
    "        if move == \"up\":\n",
    "            if i == 0:\n",
    "                return -1\n",
    "            else:\n",
    "                next_state[i][j] = next_state[i - 1][j]\n",
    "                next_state[i - 1][j] = 0\n",
    "                return next_state\n",
    "\n",
    "        if move == \"down\":\n",
    "            if i == len(self.state)-1:\n",
    "                return -1\n",
    "            else:\n",
    "                next_state[i][j] = next_state[i + 1][j]\n",
    "                next_state[i + 1][j] = 0\n",
    "                return next_state\n",
    "    def expand(self):\n",
    "        actions=['up','down','left','right']\n",
    "        child=[]\n",
    "        for move in actions:\n",
    "            child.append(self.create_child(move))\n",
    "        #removes impossible moves with -1\n",
    "        child[:] = (value for value in child if value != -1)\n",
    "        return child\n",
    "    #Funtion to create the goal state\n",
    "    def goal_achieved(self):\n",
    "        final_state=[[0 for i in range(len(self.state))] for j in range(len(self.state))]\n",
    "        start_no=0\n",
    "        for i in range(len(self.state)):\n",
    "            for j in range(len(self.state)):\n",
    "                final_state[i][j]=start_no\n",
    "                start_no +=1\n",
    "        return final_state\n",
    "  "
   ]
  },
  {
   "cell_type": "code",
   "execution_count": 2,
   "metadata": {},
   "outputs": [
    {
     "data": {
      "text/plain": [
       "[[[7, 5, 6], [2, 4, 0], [8, 1, 3]], [[7, 5, 6], [2, 4, 3], [8, 0, 1]]]"
      ]
     },
     "execution_count": 2,
     "metadata": {},
     "output_type": "execute_result"
    }
   ],
   "source": [
    "#check if expanding is happening in the right manner.\n",
    "working_initial_state_15_puzzle = [[7,5,6],[2,4,3],[8,1,0]]\n",
    "A=PuzzleNode(working_initial_state_15_puzzle, 0,0 ,parent = None)\n",
    "A.expand()"
   ]
  },
  {
   "cell_type": "markdown",
   "metadata": {
    "deletable": false,
    "editable": false,
    "nbgrader": {
     "cell_type": "markdown",
     "checksum": "f523db3048f85be39ef3dc740b53fdba",
     "grade": false,
     "grade_id": "859d2c",
     "locked": true,
     "schema_version": 3,
     "solution": false
    }
   },
   "source": [
    "<h1>\n",
    "Question 2    \n",
    "</h1>\n",
    "Define your heuristic functions using the templates below.  Ensure that you extend the <code>heuristics</code> list to include all the heuristic functions you implement.  Note that state will be given as a list of lists, so ensure your function accepts this format.  You may use packages like numpy if you wish within the functions themselves."
   ]
  },
  {
   "cell_type": "code",
   "execution_count": 3,
   "metadata": {
    "deletable": false,
    "nbgrader": {
     "cell_type": "code",
     "checksum": "686c6cabd6955171ad70aa6fd37d31a9",
     "grade": false,
     "grade_id": "3fb850",
     "locked": false,
     "schema_version": 3,
     "solution": true,
     "task": false
    }
   },
   "outputs": [],
   "source": [
    "# Add any additional code here (e.g. for the memoization extension)\n",
    "\n",
    "# YOUR CODE HERE (OPTIONAL)\n",
    "\n",
    "# Misplaced tiles heuristic\n",
    "def h1(state):\n",
    "    \n",
    "    \"\"\"\n",
    "    This function returns the number of misplaced tiles, given the state\n",
    "    Input:\n",
    "        -state: the puzzle state as a list of lists\n",
    "    Output:\n",
    "        -h: the number of misplaced tiles\n",
    "    We simply calculate the goal postion for our current element and check it against the current state \n",
    "    for which if a displacement/wrong positioning exists we update our dispalcement counter by 1.\n",
    "    \"\"\"\n",
    "    dis=0\n",
    "    for i in range(len(state)):\n",
    "        for j in range(len(state)):\n",
    "            if state[i][j] !=0:\n",
    "                goal_row,goal_col = int(state[i][j]//len(state)),state[i][j] % len(state)\n",
    "                if state[i][j] != state[goal_row][goal_col]:\n",
    "                    dis += 1\n",
    "    return dis\n",
    "    \n",
    "# Manhattan distance heuristic\n",
    "def h2(state):\n",
    "    \n",
    "    \"\"\"\n",
    "    This function returns the number of manhattan distance, given the board state\n",
    "    Input:\n",
    "        -state: the board state as a list of lists\n",
    "    Output:\n",
    "        -h:manhattan distance\n",
    "    We simply calculate the goal postion for our current element and check it against the current state positions\n",
    "    for which we calculate the manhattan displacement.\n",
    "    \"\"\"\n",
    "    manhattan_distance=0\n",
    "    for i in range(len(state)):\n",
    "        for j in range(len(state)):\n",
    "            if state[i][j] != 0:\n",
    "                #finds the goal or correct coordinate position of the current tile.\n",
    "                    x = state[i][j]%len(state)\n",
    "                    y = state[i][j]//len(state)\n",
    "                    #finds the absolute difference between goal and current position coordinates to give manhattan distance.\n",
    "                    manhattan_distance += abs(x - j) + abs(y - i)       \n",
    "    return manhattan_distance\n",
    "    \n",
    "# Extra heuristic for the extension.  If implemented, modify the function below\n",
    "def h3(state):\n",
    "    \"\"\"\n",
    "    This function returns a heuristic that dominates the Manhattan distance, given the board state\n",
    "    Input:\n",
    "        -state: the board state as a list of lists\n",
    "    Output:\n",
    "        -h: the Heuristic distance of the state from its solved configuration\n",
    "    \"\"\"\n",
    "    return 0\n",
    "\n",
    "# If you implement more than 3 heuristics, then add any extra heuristic functions onto the end of this list.\n",
    "heuristics = [h1, h2, h3]"
   ]
  },
  {
   "cell_type": "code",
   "execution_count": 4,
   "metadata": {},
   "outputs": [
    {
     "data": {
      "text/plain": [
       "2"
      ]
     },
     "execution_count": 4,
     "metadata": {},
     "output_type": "execute_result"
    }
   ],
   "source": [
    "# Add any additional code here (e.g. for the memoization extension)\n",
    "\n",
    "#memoized code\n",
    "'''\n",
    "For memoization we will use a function that will have a dictionary to store the function results for retrieval.Each \n",
    "time a new result that is not in our memoization dictionary is encountered the memoization function is called and the\n",
    "new value stored.\n",
    "Code adapted from https://python-course.eu/advanced-python/memoization-decorators.php\n",
    "'''\n",
    "def memoize(f):\n",
    "    memo = {}#dictonary to store function values\n",
    "    def helper(state):\n",
    "        if str(state) not in memo:            \n",
    "            memo[str(state)] = f(state)\n",
    "        return memo[str(state)]\n",
    "    return helper\n",
    "\n",
    "\n",
    "# Misplaced tiles heuristic\n",
    "#memoization python decorator\n",
    "@memoize\n",
    "def h1(state):\n",
    "    \n",
    "    \"\"\"\n",
    "    This function returns the number of misplaced tiles, given the board state\n",
    "    Input:\n",
    "        -state: the board state as a list of lists\n",
    "    Output:\n",
    "        -h: the number of misplaced tiles\n",
    "    We simply calculate the goal postion for our current element and check it against the current state \n",
    "    for which if a displacement/wrong positioning exists we update our counter by 1.\n",
    "    \"\"\"\n",
    "    dis=0\n",
    "    for i in range(len(state)):\n",
    "        for j in range(len(state)):\n",
    "            if state[i][j] !=0:\n",
    "                goal_row,goal_col = int(state[i][j]//len(state)),state[i][j] % len(state)\n",
    "                if state[i][j] != state[goal_row][goal_col]:\n",
    "                    dis += 1\n",
    "    return dis\n",
    "    \n",
    "# Manhattan distance heuristic\n",
    "@memoize\n",
    "def h2(state):\n",
    "    \n",
    "    \"\"\"\n",
    "    This function returns the number of manhattan distance, given the board state\n",
    "    Input:\n",
    "        -state: the board state as a list of lists\n",
    "    Output:\n",
    "        -h:manhattan distance\n",
    "    We simply calculate the goal postion for our current element and check it against the current state positions\n",
    "    for which we calculate the manhattan displacement.\n",
    "    \"\"\"\n",
    "    manhattan_distance=0\n",
    "    for i in range(len(state)):\n",
    "        for j in range(len(state)):\n",
    "            if state[i][j] != 0:\n",
    "                #finds the position of the current tile in coordinates\n",
    "                    x = state[i][j]%len(state)\n",
    "                    y = state[i][j]//len(state)\n",
    "                    #finds the absolute difference between goal and current position\n",
    "                    manhattan_distance += abs(x - j) + abs(y - i)       \n",
    "    return manhattan_distance\n",
    "    \n",
    "#Extra heuristic for the extension.  If implemented, modify the function below\n",
    "@memoize\n",
    "def h3(state):\n",
    "    \"\"\"\n",
    "    This function returns a heuristic that dominates the Manhattan distance, given the board state\n",
    "    Input:\n",
    "        -state: the board state as a list of lists\n",
    "    Output:\n",
    "        -h: the Heuristic distance of the state from its solved configuration\n",
    "    \"\"\"\n",
    "    return 0\n",
    "\n",
    "# If you implement more than 3 heuristics, then add any extra heuristic functions onto the end of this list.\n",
    "heuristics_memoized = [h1, h2, h3]\n",
    "\n",
    "\n",
    "heuristics_memoized[0]([[1,2,0],[3,4,5],[6,7,8]])"
   ]
  },
  {
   "cell_type": "markdown",
   "metadata": {
    "deletable": false,
    "editable": false,
    "nbgrader": {
     "cell_type": "markdown",
     "checksum": "591174c27300d0a4d4d96ee841e46810",
     "grade": false,
     "grade_id": "e224d9",
     "locked": true,
     "schema_version": 3,
     "solution": false
    }
   },
   "source": [
    "<h1>\n",
    "Question 3    \n",
    "</h1>\n",
    "Code up your A* search using the SolvePuzzle function within the template below.  Please do not modify the function header, otherwise the automated testing will fail.  You may define other functions or import packages as needed in this cell or by adding additional cells."
   ]
  },
  {
   "cell_type": "code",
   "execution_count": 5,
   "metadata": {
    "deletable": false,
    "nbgrader": {
     "cell_type": "code",
     "checksum": "91dda09c4f5df1db4607bb3b82e81afd",
     "grade": false,
     "grade_id": "328d7b",
     "locked": false,
     "schema_version": 3,
     "solution": true
    }
   },
   "outputs": [
    {
     "name": "stdout",
     "output_type": "stream",
     "text": [
      "True\n"
     ]
    }
   ],
   "source": [
    "\n",
    "def correct_state(state):\n",
    "    \"\"\"\n",
    "    This function returns if the board state is of the right dimensions and has n-1 unique elements in it.\n",
    "    Input:\n",
    "        -state: the board state as a list of lists\n",
    "    Output:\n",
    "        -h: boolean value False if the board is not in the correct state and True if in correct state.\n",
    "    \"\"\"\n",
    "    for i in range(len(state)):\n",
    "        #checks if the state is in the right dimensions\n",
    "        if len(state) != len(state[i]):   \n",
    "            return False\n",
    "    #check if our states contains all elements for n-1  \n",
    "    correct_state= [i for i in range(len(state)**2)]\n",
    "    for i in range(len(state)):\n",
    "        for j in range(len(state[0])):\n",
    "            value = state[i][j]\n",
    "            if value in correct_state:\n",
    "                #checks if the values in our state are all in the correct state list and have right frequency\n",
    "                correct_state.remove(value)\n",
    "            else:\n",
    "                return False\n",
    "    return True\n",
    "\n",
    "\n",
    "state=[[1,2,6,3],[0,9,5,7],[4,13,10,11],[8,12,14,15]]\n",
    "print(correct_state(state)) "
   ]
  },
  {
   "cell_type": "code",
   "execution_count": 6,
   "metadata": {},
   "outputs": [
    {
     "data": {
      "text/plain": [
       "False"
      ]
     },
     "execution_count": 6,
     "metadata": {},
     "output_type": "execute_result"
    }
   ],
   "source": [
    "def solvable(state): \n",
    "    \"\"\"\n",
    "    Adapted from https://datawookie.dev/blog/2019/04/sliding-puzzle-solvable/\n",
    "    The code works by the idea that there exists inversion for puzzles.Inversion mean that the pair of tiles are not \n",
    "    in the correct order.For example in a tile [[2,1,0],[3,4,5],[6,7,8]] there exist one inversion in the 2 and 1 \n",
    "    elements.The number of inversions is then used to determine whether a puzzle is solvable or not  when we consider \n",
    "    the polarity of the inversions.For solvable tiles they even polarity and usolvale tiles have uneven polarity. \n",
    "    \"\"\"\n",
    "    count = 0\n",
    "    for i in range(len(state)):\n",
    "        for j in range(i+1, len(state)):\n",
    "            if state[j] and state[i] and state[i] > state[j]:\n",
    "                count += 1\n",
    "    if count % 2 != 0:\n",
    "        return False\n",
    "    else:\n",
    "        return True\n",
    "    \n",
    "solvable([[2,3,7],[1,8,0],[6,5,4]])"
   ]
  },
  {
   "cell_type": "code",
   "execution_count": 7,
   "metadata": {},
   "outputs": [
    {
     "data": {
      "text/plain": [
       "(2,\n",
       " 4,\n",
       " 3,\n",
       " [[[1, 2, 0], [3, 4, 5], [6, 7, 8]],\n",
       "  [[1, 0, 2], [3, 4, 5], [6, 7, 8]],\n",
       "  [[0, 1, 2], [3, 4, 5], [6, 7, 8]]],\n",
       " 0)"
      ]
     },
     "execution_count": 7,
     "metadata": {},
     "output_type": "execute_result"
    }
   ],
   "source": [
    "# Import any packages or define any helper functions you need here\n",
    " \n",
    "\n",
    "# Import any packages or define any helper functions you need here\n",
    "\n",
    "# YOUR CODE HERE (OPTIONAL)\n",
    "# Main solvePuzzle function.\n",
    "def solvePuzzle(state, heuristic):\n",
    "    \"\"\"This function should solve the n**2-1 puzzle for any n > 2 (although it may take too long for n > 4)).\n",
    "    Inputs:\n",
    "        -state: The initial state of the puzzle as a list of lists\n",
    "        -heuristic: a handle to a heuristic function.  Will be one of those defined in Question 2.\n",
    "    Outputs:\n",
    "        -steps: The number of steps to optimally solve the puzzle (excluding the initial state)\n",
    "        -exp: The number of nodes expanded to reach the solution\n",
    "        -max_frontier: The maximum size of the frontier over the whole search\n",
    "        -opt_path: The optimal path as a list of list of lists.  That is, opt_path[:,:,i] should give a list of lists\n",
    "                    that represents the state of the board at the ith step of the solution.\n",
    "        -err: An error code.  If state is not of the appropriate size and dimension, return -1.  For the extention task,\n",
    "          if the state is not solvable, then return -2\n",
    "    \"\"\"\n",
    "    \n",
    "    max_frontier = 0 \n",
    "    exp = 0     \n",
    "    steps = 0\n",
    "    opt_path = []\n",
    "    err=0\n",
    "    #conditional to check if the current state is of correct dimensions and elements and solvable\n",
    "    if not correct_state(state): \n",
    "        err=-1\n",
    "        return steps, exp, max_frontier, opt_path, err\n",
    "\n",
    "\n",
    "    \n",
    "    gval = 0 \n",
    "    start = PuzzleNode(state, gval, fval = heuristic(state)+gval ,parent = None)\n",
    "    #we use a priority queue to store our child/successor nodes in order of fval where we retrieve the smallest fval\n",
    "    from queue import PriorityQueue\n",
    "    # Dictionary with current cost to reach all visited nodes\n",
    "    costs_db={}\n",
    "    costs_db[str(start.state)] = start\n",
    "    frontier = PriorityQueue()\n",
    "    #we have inserted the first state for initialization\n",
    "    frontier.put(start)\n",
    "    \n",
    "    \n",
    "    #while we have a state explore all possible states \n",
    "    while not frontier.empty(): \n",
    "      \n",
    "      #gets node with least fval and if goal we terminate\n",
    "      current_node = frontier.get() \n",
    "      if current_node.state == current_node.goal_achieved(): break\n",
    "      if current_node.pruned: continue\n",
    " \n",
    "    \n",
    "      #creates child nodes according to possible number of moves\n",
    "      children = current_node.expand() \n",
    "    \n",
    "      for child in children:\n",
    "        #adds up gval to get to a child which is 1 for each expansion\n",
    "        gval = current_node.gval + 1 \n",
    "        \n",
    "        if (str(child)) in costs_db:\n",
    "          hval = costs_db[str(child)].fval - costs_db[str(child)].gval\n",
    "          fval = hval + gval\n",
    "          \n",
    "          if costs_db[str(child)].gval > gval:\n",
    "                # Skip if this node has been marked for pruning\n",
    "                costs_db[str(child)].pruned = True\n",
    "          else: \n",
    "            #skips to the next iteration of the loop to loop over all the children nodes\n",
    "            continue \n",
    "        else: \n",
    "          fval = heuristic(child) + gval\n",
    "        \n",
    "        #create a new node to be explored and expanded and adds it to dictionary\n",
    "        next_node = PuzzleNode(child,gval,fval,current_node) \n",
    "        frontier.put(next_node)  \n",
    "        costs_db[str(child)] = next_node\n",
    "        \n",
    "        #gets the number of explored and expaned nodes and increments counter by one each time we explore another node\n",
    "        exp = exp + 1\n",
    "\n",
    "      #gets the number of explored nodes \n",
    "      max_frontier = max(max_frontier, len(frontier.queue))\n",
    "    \n",
    "\n",
    "    \n",
    " \n",
    "    \n",
    "    #gets our optimal list and reverses it to get the path from initial state to goal state\n",
    "    opt_path = [current_node.state]\n",
    "    while current_node.parent:\n",
    "      steps += 1 \n",
    "      opt_path.append(current_node.parent.state)\n",
    "      current_node = current_node.parent\n",
    "    #optimal path is reversed to display in order from start to end\n",
    "    opt_path = opt_path[::-1]\n",
    "    \n",
    "              \n",
    "    #Final value is returned. \n",
    "    return steps, exp, max_frontier, opt_path, err\n",
    "\n",
    "solvePuzzle([[1,2,0],[3,4,5],[6,7,8]], heuristics[0])\n",
    "    "
   ]
  },
  {
   "cell_type": "markdown",
   "metadata": {
    "deletable": false,
    "editable": false,
    "nbgrader": {
     "cell_type": "markdown",
     "checksum": "93712bce8426499023ace13735ea998d",
     "grade": false,
     "grade_id": "cell-3fc6e687e03655a1",
     "locked": true,
     "schema_version": 3,
     "solution": false,
     "task": false
    }
   },
   "source": [
    "<h1>Extension Questions</h1>\n",
    "\n",
    "The extensions can be implemented by modifying the code from Q2-3 above appropriately.\n",
    "\n",
    "1. <b>Initial state solvability:</b>  Modify your SolvePuzzle function code in Q3 to return -2 if an initial state is not solvable to the goal state.\n",
    "2. <b>Extra heuristic function:</b> Add another heuristic function (e.g. pattern database) that dominates the misplaced tiles and Manhattan distance heuristics to your Q2 code.\n",
    "3. <b>Memoization:</b>  Modify your heuristic function definitions in Q2 by using a Python decorator to speed up heuristic function evaluation\n",
    "\n",
    "There are test cells provided for extension questions 1 and 2."
   ]
  },
  {
   "cell_type": "markdown",
   "metadata": {
    "deletable": false,
    "editable": false,
    "nbgrader": {
     "cell_type": "markdown",
     "checksum": "c89ea5c4d80cc73d321b4d15a043e8b7",
     "grade": false,
     "grade_id": "fb9ccd",
     "locked": true,
     "schema_version": 3,
     "solution": false
    }
   },
   "source": [
    "<h1>Basic Functionality Tests</h1>\n",
    "The cells below contain tests to verify that your code is working properly to be classified as basically functional.  Please note that a grade of <b>3</b> on #aicoding and #search as applicable for each test requires the test to be successfully passed.  <b>If you want to demonstrate some other aspect of your code, then feel free to add additional cells with test code and document what they do.<b>"
   ]
  },
  {
   "cell_type": "code",
   "execution_count": 8,
   "metadata": {
    "deletable": false,
    "editable": false,
    "nbgrader": {
     "cell_type": "code",
     "checksum": "f8d927b41dc95f7b76d81ed7f6cd13ec",
     "grade": true,
     "grade_id": "8fbc24",
     "locked": true,
     "points": 1,
     "schema_version": 3,
     "solution": false
    }
   },
   "outputs": [],
   "source": [
    "## Test for state not correctly defined\n",
    "\n",
    "incorrect_state = [[0,1,2],[2,3,4],[5,6,7]]\n",
    "_,_,_,_,err = solvePuzzle(incorrect_state, lambda state: 0)\n",
    "assert(err == -1)"
   ]
  },
  {
   "cell_type": "code",
   "execution_count": 9,
   "metadata": {
    "deletable": false,
    "editable": false,
    "nbgrader": {
     "cell_type": "code",
     "checksum": "005a7a99916dafeb7180172c66365597",
     "grade": true,
     "grade_id": "cell-5738a2124877e52e",
     "locked": true,
     "points": 2,
     "schema_version": 3,
     "solution": false,
     "task": false
    }
   },
   "outputs": [],
   "source": [
    "## Heuristic function tests for misplaced tiles and manhattan distance\n",
    "\n",
    "# Define the working initial states\n",
    "working_initial_states_8_puzzle = ([[2,3,7],[1,8,0],[6,5,4]], [[7,0,8],[4,6,1],[5,3,2]], [[5,7,6],[2,4,3],[8,1,0]])\n",
    "\n",
    "# Test the values returned by the heuristic functions\n",
    "h_mt_vals = [7,8,7]\n",
    "h_man_vals = [15,17,18]\n",
    "\n",
    "for i in range(0,3):\n",
    "    h_mt = heuristics[0](working_initial_states_8_puzzle[i])\n",
    "    h_man = heuristics[1](working_initial_states_8_puzzle[i])\n",
    "    assert(h_mt == h_mt_vals[i])\n",
    "    assert(h_man == h_man_vals[i])\n"
   ]
  },
  {
   "cell_type": "code",
   "execution_count": 10,
   "metadata": {
    "deletable": false,
    "editable": false,
    "nbgrader": {
     "cell_type": "code",
     "checksum": "293094319e63d67c5f6d94cd7aee0c02",
     "grade": true,
     "grade_id": "cell-99c07d9541559b52",
     "locked": true,
     "points": 4,
     "schema_version": 3,
     "solution": false,
     "task": false
    }
   },
   "outputs": [],
   "source": [
    "## A* Tests for 3 x 3 boards\n",
    "## This test runs A* with both heuristics and ensures that the same optimal number of steps are found\n",
    "## with each heuristic.\n",
    "\n",
    "# Optimal path to the solution for the first 3 x 3 state\n",
    "opt_path_soln = [[[2, 3, 7], [1, 8, 0], [6, 5, 4]], [[2, 3, 7], [1, 8, 4], [6, 5, 0]], \n",
    "                 [[2, 3, 7], [1, 8, 4], [6, 0, 5]], [[2, 3, 7], [1, 0, 4], [6, 8, 5]], \n",
    "                 [[2, 0, 7], [1, 3, 4], [6, 8, 5]], [[0, 2, 7], [1, 3, 4], [6, 8, 5]], \n",
    "                 [[1, 2, 7], [0, 3, 4], [6, 8, 5]], [[1, 2, 7], [3, 0, 4], [6, 8, 5]], \n",
    "                 [[1, 2, 7], [3, 4, 0], [6, 8, 5]], [[1, 2, 0], [3, 4, 7], [6, 8, 5]], \n",
    "                 [[1, 0, 2], [3, 4, 7], [6, 8, 5]], [[1, 4, 2], [3, 0, 7], [6, 8, 5]], \n",
    "                 [[1, 4, 2], [3, 7, 0], [6, 8, 5]], [[1, 4, 2], [3, 7, 5], [6, 8, 0]], \n",
    "                 [[1, 4, 2], [3, 7, 5], [6, 0, 8]], [[1, 4, 2], [3, 0, 5], [6, 7, 8]], \n",
    "                 [[1, 0, 2], [3, 4, 5], [6, 7, 8]], [[0, 1, 2], [3, 4, 5], [6, 7, 8]]]\n",
    "\n",
    "astar_steps = [17, 25, 28]\n",
    "for i in range(0,3):\n",
    "    steps_mt, expansions_mt, _, opt_path_mt, _ = solvePuzzle(working_initial_states_8_puzzle[i], heuristics[0])\n",
    "    steps_man, expansions_man, _, opt_path_man, _ = solvePuzzle(working_initial_states_8_puzzle[i], heuristics[1])\n",
    "    # Test whether the number of optimal steps is correct and the same\n",
    "    assert(steps_mt == steps_man == astar_steps[i])\n",
    "    # Test whether or not the manhattan distance dominates the misplaced tiles heuristic in every case\n",
    "    assert(expansions_man < expansions_mt)\n",
    "    # For the first state, test that the optimal path is the same\n",
    "    if i == 0:\n",
    "        assert(opt_path_mt == opt_path_soln)\n"
   ]
  },
  {
   "cell_type": "code",
   "execution_count": 11,
   "metadata": {
    "deletable": false,
    "editable": false,
    "nbgrader": {
     "cell_type": "code",
     "checksum": "94ad7f950f87fcc281af1f3946c4e196",
     "grade": true,
     "grade_id": "cell-2981ba2cc7745c22",
     "locked": true,
     "points": 8,
     "schema_version": 3,
     "solution": false,
     "task": false
    }
   },
   "outputs": [
    {
     "name": "stdout",
     "output_type": "stream",
     "text": [
      "9\n"
     ]
    }
   ],
   "source": [
    "## A* Test for 4 x 4 board\n",
    "## This test runs A* with both heuristics and ensures that the same optimal number of steps are found\n",
    "## with each heuristic.\n",
    "\n",
    "working_initial_state_15_puzzle = [[1,2,6,3],[0,9,5,7],[4,13,10,11],[8,12,14,15]]\n",
    "steps_mt, expansions_mt, _, _, _ = solvePuzzle(working_initial_state_15_puzzle, heuristics[0])\n",
    "steps_man, expansions_man, _, _, _ = solvePuzzle(working_initial_state_15_puzzle, heuristics[1])\n",
    "# Test whether the number of optimal steps is correct and the same\n",
    "assert(steps_mt == steps_man == 9)\n",
    "print(steps_man)\n",
    "# Test whether or not the manhattan distance dominates the misplaced tiles heuristic in every case\n",
    "assert(expansions_mt >= expansions_man)"
   ]
  }
 ],
 "metadata": {
  "kernelspec": {
   "display_name": "Python 3",
   "language": "python",
   "name": "python3"
  },
  "language_info": {
   "codemirror_mode": {
    "name": "ipython",
    "version": 3
   },
   "file_extension": ".py",
   "mimetype": "text/x-python",
   "name": "python",
   "nbconvert_exporter": "python",
   "pygments_lexer": "ipython3",
   "version": "3.8.8"
  },
  "vscode": {
   "interpreter": {
    "hash": "112ae1cabd38934157f4e6a9df2801f8d678e7887753cce09e409a5d8b9710a3"
   }
  }
 },
 "nbformat": 4,
 "nbformat_minor": 1
}
